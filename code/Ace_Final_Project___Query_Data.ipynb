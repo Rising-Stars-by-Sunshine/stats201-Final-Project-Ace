{
  "nbformat": 4,
  "nbformat_minor": 0,
  "metadata": {
    "colab": {
      "provenance": []
    },
    "kernelspec": {
      "name": "python3",
      "display_name": "Python 3"
    },
    "language_info": {
      "name": "python"
    }
  },
  "cells": [
    {
      "cell_type": "markdown",
      "source": [
        "# Steps for Querying Data Using Google Trends"
      ],
      "metadata": {
        "id": "mb_QMbPeWmRn"
      }
    },
    {
      "cell_type": "markdown",
      "source": [
        "## 1. Search Term"
      ],
      "metadata": {
        "id": "J9lkIL5LYcf-"
      }
    },
    {
      "cell_type": "markdown",
      "source": [
        "Navigate to [Google Trends](https://trends.google.com/trends/?geo=HR) and enter the term \"Remote Jobs\" into the search bar."
      ],
      "metadata": {
        "id": "sD_a5BKnYMPE"
      }
    },
    {
      "cell_type": "markdown",
      "source": [
        "## 2. Filter Results"
      ],
      "metadata": {
        "id": "AUhrsmqQl0R6"
      }
    },
    {
      "cell_type": "markdown",
      "source": [
        "Adjust the location to be only the United States and the time period to be a five-year span to now (February 2023)."
      ],
      "metadata": {
        "id": "2jRPC-kqYe3t"
      }
    },
    {
      "cell_type": "markdown",
      "source": [
        "## 3. Download Data"
      ],
      "metadata": {
        "id": "E30KQRcal0R7"
      }
    },
    {
      "cell_type": "markdown",
      "source": [
        "In the top right corner above the graph, click the download button to get the data in CSV format."
      ],
      "metadata": {
        "id": "MPPCdpNdl0R7"
      }
    },
    {
      "cell_type": "markdown",
      "source": [
        "## 4. Upload Data"
      ],
      "metadata": {
        "id": "f7il1NrQl0R7"
      }
    },
    {
      "cell_type": "markdown",
      "source": [
        "Upload the CSV file into the Queried_Data folder under the name 'Remote Work Google Trends - Sheet1.csv'."
      ],
      "metadata": {
        "id": "QM88rlDPl0R7"
      }
    }
  ]
}